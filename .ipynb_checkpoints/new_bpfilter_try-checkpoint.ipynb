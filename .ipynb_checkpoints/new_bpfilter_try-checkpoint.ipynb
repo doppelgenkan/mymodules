{
 "cells": [
  {
   "cell_type": "code",
   "execution_count": 1,
   "id": "4e6fd72e-8dcf-4ef4-9f8b-de2f6b705e91",
   "metadata": {},
   "outputs": [],
   "source": [
    "import numpy as np\n",
    "from scipy.fft import *"
   ]
  },
  {
   "cell_type": "code",
   "execution_count": 2,
   "id": "04f7bbe0-ce89-4228-a4d1-6b30524709a0",
   "metadata": {},
   "outputs": [
    {
     "data": {
      "text/plain": [
       "\u001b[0;31mSignature:\u001b[0m \u001b[0mfftfreq\u001b[0m\u001b[0;34m(\u001b[0m\u001b[0mn\u001b[0m\u001b[0;34m,\u001b[0m \u001b[0md\u001b[0m\u001b[0;34m=\u001b[0m\u001b[0;36m1.0\u001b[0m\u001b[0;34m,\u001b[0m \u001b[0;34m*\u001b[0m\u001b[0;34m,\u001b[0m \u001b[0mxp\u001b[0m\u001b[0;34m=\u001b[0m\u001b[0;32mNone\u001b[0m\u001b[0;34m,\u001b[0m \u001b[0mdevice\u001b[0m\u001b[0;34m=\u001b[0m\u001b[0;32mNone\u001b[0m\u001b[0;34m)\u001b[0m\u001b[0;34m\u001b[0m\u001b[0;34m\u001b[0m\u001b[0m\n",
       "\u001b[0;31mDocstring:\u001b[0m\n",
       "Return the Discrete Fourier Transform sample frequencies.\n",
       "\n",
       "The returned float array `f` contains the frequency bin centers in cycles\n",
       "per unit of the sample spacing (with zero at the start).  For instance, if\n",
       "the sample spacing is in seconds, then the frequency unit is cycles/second.\n",
       "\n",
       "Given a window length `n` and a sample spacing `d`::\n",
       "\n",
       "  f = [0, 1, ...,   n/2-1,     -n/2, ..., -1] / (d*n)   if n is even\n",
       "  f = [0, 1, ..., (n-1)/2, -(n-1)/2, ..., -1] / (d*n)   if n is odd\n",
       "\n",
       "Parameters\n",
       "----------\n",
       "n : int\n",
       "    Window length.\n",
       "d : scalar, optional\n",
       "    Sample spacing (inverse of the sampling rate). Defaults to 1.\n",
       "xp : array_namespace, optional\n",
       "    The namespace for the return array. Default is None, where NumPy is used.\n",
       "device : device, optional\n",
       "    The device for the return array.\n",
       "    Only valid when `xp.fft.fftfreq` implements the device parameter.\n",
       " \n",
       "Returns\n",
       "-------\n",
       "f : ndarray\n",
       "    Array of length `n` containing the sample frequencies.\n",
       "\n",
       "Examples\n",
       "--------\n",
       ">>> signal = np.array([-2, 8, 6, 4, 1, 0, 3, 5], dtype=float)\n",
       ">>> fourier = scipy.fft.fft(signal)\n",
       ">>> n = signal.size\n",
       ">>> timestep = 0.1\n",
       ">>> freq = scipy.fft.fftfreq(n, d=timestep)\n",
       ">>> freq\n",
       "array([ 0.  ,  1.25,  2.5 , ..., -3.75, -2.5 , -1.25])\n",
       "\u001b[0;31mFile:\u001b[0m      ~/anaconda3/lib/python3.11/site-packages/scipy/fft/_helper.py\n",
       "\u001b[0;31mType:\u001b[0m      function"
      ]
     },
     "metadata": {},
     "output_type": "display_data"
    }
   ],
   "source": [
    "fftfreq?"
   ]
  },
  {
   "cell_type": "code",
   "execution_count": 3,
   "id": "06b55639-0669-45d2-a877-74231652a190",
   "metadata": {},
   "outputs": [],
   "source": [
    "def frq(k, num, hz=1000):   # num is data length\n",
    "    return k * hz / num\n",
    "\n",
    "\n",
    "def ini_kc(fr, num, hz=1000):\n",
    "    return int(np.ceil(fr * num / hz))\n",
    "\n",
    "\n",
    "def fin_kc(fr, num, hz=1000):\n",
    "    return int(np.floor(fr * num / hz))\n",
    "\n",
    "\n",
    "def _partialFFT(arr, k0, k1, rmDC=True):   # 波数k0〜k1のFFT(k0, k1は自然数),  add rmDC=True\n",
    "    num = len(arr)\n",
    "    Fk = fft(arr) / num\n",
    "    # Fk = fft(arr, norm=\"forward\")      #Scipy ver.1.6以上\n",
    "    if rmDC == True:     # add\n",
    "        Fk[0] = 0             # add\n",
    "    Fk[:k0] = 0           # index = 0, 1, 2, ... k0-1 の要素を0に (低振動数カット...左片側)\n",
    "    Fk[num-k0+1:] = 0   # index = len(arr)-k1+1, len(arr)-k1+2, ... ,len(arr)-1 の要素を0に (低振動数カット....右片側)\n",
    "    Fk[k1+1:num-k1] = 0   # index = k1+1, k1+2, ... len(arr)-(k1-1) の要素を0に （高周波数カット）\n",
    "    return Fk\n",
    "\n",
    "\n",
    "def partialFFT(arr, ini_frq, fin_frq, hz=1000, rmDC=True):    # add rmDC=True\n",
    "    \"\"\"\n",
    "    Return 周波数範囲を指定したFFTスペクトル1D-ndarray.\n",
    "    \n",
    "    Parameters\n",
    "    ----------\n",
    "    arr : 1D-ndarray\n",
    "        サンプリングデータ配列. 1D-ndarray.\n",
    "    ini_frq : float\n",
    "        低周波カットオフ周波数. ini_fr以上のスペクトルを残す.\n",
    "    fin_frq : float\n",
    "        高周波カットオフ周波数. fin_fr以下のスペクトルを残す.\n",
    "    hz : int, optional (1000)\n",
    "        サンプル周波数. デフォルトで1000[Hz].\n",
    "    \n",
    "    \"\"\"\n",
    "    num = len(arr)\n",
    "    k0 = ini_kc(ini_frq, num, hz=hz)\n",
    "    k1 = fin_kc(fin_frq, num, hz=hz)\n",
    "    return  _partialFFT(arr, k0, k1, rmDC=rmDC)   # add rmDC=rmDC\n",
    "\n",
    "\n",
    "def bpfilter(arr, ini_frq, fin_frq, hz=1000, rmDC=True):   # 周波数i区間[ini_frq, fin_frq]のバンドパスフィルター\n",
    "    \"\"\"\n",
    "    Retern バンドパスフィルタを施した1D-ndarray(デフォルト). \n",
    "        \n",
    "    Parameters\n",
    "    ----------\n",
    "    arr : 1D-ndarray\n",
    "        サンプリングデータ配列. 1D-numpy配列.\n",
    "    ini_frq : float\n",
    "        低周波カットオフ周波数. ini_fr以上のスペクトルを残す.\n",
    "    fin_frq : float\n",
    "        高周波カットオフ周波数. fin_fr以下のスペクトルを残す.\n",
    "    hz : int, optional (1000)\n",
    "        サンプル周波数. デフォルトで1000[Hz].\n",
    "    \"\"\"\n",
    "    num = len(arr)\n",
    "    Fk = partialFFT(arr, ini_frq, fin_frq, hz=hz, rmDC=rmDC)    # add rmDC=rmDC\n",
    "    return np.real(ifft(Fk) * num)\n",
    "    # return np.real(ifft(Fk, norm=\"forward\"))   #Scipy ver.1.6以上"
   ]
  },
  {
   "cell_type": "code",
   "execution_count": 4,
   "id": "ea1e2144-a8e7-4c6c-93d7-7bd86b7baeee",
   "metadata": {},
   "outputs": [
    {
     "data": {
      "text/plain": [
       "0.4"
      ]
     },
     "execution_count": 4,
     "metadata": {},
     "output_type": "execute_result"
    }
   ],
   "source": [
    "fftfreq(30000, 1/1000)[12]"
   ]
  },
  {
   "cell_type": "code",
   "execution_count": 5,
   "id": "6b2f450a-b573-4479-92d2-061257f617bd",
   "metadata": {},
   "outputs": [
    {
     "data": {
      "text/plain": [
       "0.4"
      ]
     },
     "execution_count": 5,
     "metadata": {},
     "output_type": "execute_result"
    }
   ],
   "source": [
    "frq(12, 30000, hz=1000)"
   ]
  },
  {
   "cell_type": "code",
   "execution_count": 6,
   "id": "55621b1c-3c65-4f47-930d-f9d38f502e0a",
   "metadata": {},
   "outputs": [
    {
     "data": {
      "text/plain": [
       "12"
      ]
     },
     "execution_count": 6,
     "metadata": {},
     "output_type": "execute_result"
    }
   ],
   "source": [
    "ini_kc(0.4, 30000, hz=1000)"
   ]
  },
  {
   "cell_type": "code",
   "execution_count": 7,
   "id": "4cd7b805-469c-4704-8870-43805403264c",
   "metadata": {},
   "outputs": [
    {
     "data": {
      "text/plain": [
       "50.1"
      ]
     },
     "execution_count": 7,
     "metadata": {},
     "output_type": "execute_result"
    }
   ],
   "source": [
    "fftfreq(30000, 1/1000)[1503]"
   ]
  },
  {
   "cell_type": "code",
   "execution_count": 8,
   "id": "30c355ce-e835-4f12-ae36-793dbfa2a32d",
   "metadata": {},
   "outputs": [
    {
     "data": {
      "text/plain": [
       "50.1"
      ]
     },
     "execution_count": 8,
     "metadata": {},
     "output_type": "execute_result"
    }
   ],
   "source": [
    "frq(1503, 30000, hz=1000)"
   ]
  },
  {
   "cell_type": "code",
   "execution_count": 9,
   "id": "952fc554-fb2d-47f9-a1cb-f3723f0c2219",
   "metadata": {},
   "outputs": [
    {
     "data": {
      "text/plain": [
       "1503"
      ]
     },
     "execution_count": 9,
     "metadata": {},
     "output_type": "execute_result"
    }
   ],
   "source": [
    "fin_kc(50.1, 30000, hz=1000)"
   ]
  },
  {
   "cell_type": "code",
   "execution_count": 10,
   "id": "a856d500-ce95-4bee-87ab-8e405df5d677",
   "metadata": {},
   "outputs": [
    {
     "data": {
      "text/plain": [
       "50.1"
      ]
     },
     "execution_count": 10,
     "metadata": {},
     "output_type": "execute_result"
    }
   ],
   "source": [
    "rfftfreq(30000, 1/1000)[1503]"
   ]
  },
  {
   "cell_type": "code",
   "execution_count": 11,
   "id": "27825cd2-603d-40fc-bacc-4ce2a1d161b4",
   "metadata": {},
   "outputs": [],
   "source": [
    "def nearestidx(arr, val):\n",
    "    \"\"\"\n",
    "    Return int \n",
    "        データ配列arrからvalで指定したターゲット値に最も近い値のindex.\n",
    "        \n",
    "    Parameters\n",
    "    ----------\n",
    "    arr: 1D-ndarray\n",
    "        データ配列\n",
    "    val: float\n",
    "        ターゲット値\n",
    "    \"\"\"\n",
    "    return np.argmin(np.abs(arr - val))\n"
   ]
  },
  {
   "cell_type": "code",
   "execution_count": 17,
   "id": "40bee86e-e354-478b-95f1-09ca3df1c64d",
   "metadata": {},
   "outputs": [
    {
     "data": {
      "text/plain": [
       "161"
      ]
     },
     "execution_count": 17,
     "metadata": {},
     "output_type": "execute_result"
    }
   ],
   "source": [
    "nearestidx(rfftfreq(321321, 1/1000), 0.5)"
   ]
  },
  {
   "cell_type": "code",
   "execution_count": 18,
   "id": "837ee7e0-7dd4-4333-ad87-e1d2cd8d9844",
   "metadata": {},
   "outputs": [
    {
     "data": {
      "text/plain": [
       "161"
      ]
     },
     "execution_count": 18,
     "metadata": {},
     "output_type": "execute_result"
    }
   ],
   "source": [
    "ini_kc(0.5, 321321, hz=1000)"
   ]
  },
  {
   "cell_type": "code",
   "execution_count": 19,
   "id": "0c506f9b-73c3-441c-9c78-f40d8cba5267",
   "metadata": {},
   "outputs": [
    {
     "data": {
      "text/plain": [
       "32132"
      ]
     },
     "execution_count": 19,
     "metadata": {},
     "output_type": "execute_result"
    }
   ],
   "source": [
    "fin_kc(100, 321321, hz=1000)"
   ]
  },
  {
   "cell_type": "code",
   "execution_count": 20,
   "id": "63990e77-0383-442a-8c0e-e660f1c6acb8",
   "metadata": {},
   "outputs": [
    {
     "data": {
      "text/plain": [
       "32132"
      ]
     },
     "execution_count": 20,
     "metadata": {},
     "output_type": "execute_result"
    }
   ],
   "source": [
    "nearestidx(rfftfreq(321321, 1/1000), 100)"
   ]
  },
  {
   "cell_type": "code",
   "execution_count": 32,
   "id": "34ddd9bd-2b70-435d-baa6-616f9911a183",
   "metadata": {},
   "outputs": [
    {
     "data": {
      "text/plain": [
       "1"
      ]
     },
     "execution_count": 32,
     "metadata": {},
     "output_type": "execute_result"
    }
   ],
   "source": [
    "nearestidx(rfftfreq(300, 1/1000), 2)"
   ]
  },
  {
   "cell_type": "code",
   "execution_count": 24,
   "id": "841a43ae-9884-4cd7-a948-940efa1653bb",
   "metadata": {},
   "outputs": [
    {
     "data": {
      "text/plain": [
       "75"
      ]
     },
     "execution_count": 24,
     "metadata": {},
     "output_type": "execute_result"
    }
   ],
   "source": [
    "nearestidx(rfftfreq(300, 1/1000), 250)"
   ]
  },
  {
   "cell_type": "code",
   "execution_count": 33,
   "id": "d090ea34-c3c4-43d4-a876-7e499591f79c",
   "metadata": {},
   "outputs": [
    {
     "data": {
      "text/plain": [
       "1"
      ]
     },
     "execution_count": 33,
     "metadata": {},
     "output_type": "execute_result"
    }
   ],
   "source": [
    "ini_kc(2, 300, hz=1000)"
   ]
  },
  {
   "cell_type": "code",
   "execution_count": 108,
   "id": "524eea58-6cf5-487d-bea4-319f0f9c75cd",
   "metadata": {},
   "outputs": [],
   "source": [
    "def nearestidx(arr, val):\n",
    "    \"\"\"\n",
    "    Return int \n",
    "        データ配列arrからvalで指定したターゲット値に最も近い値のindex.\n",
    "        \n",
    "    Parameters\n",
    "    ----------\n",
    "    arr: 1D-ndarray\n",
    "        データ配列\n",
    "    val: float\n",
    "        ターゲット値\n",
    "    \"\"\"\n",
    "    return np.argmin(np.abs(arr - val))\n",
    "\n",
    "\n",
    "def partialFFT1(arr, ini_frq, fin_frq, hz=1000, rmDC=True):    # add rmDC=True\n",
    "    \"\"\"\n",
    "    Return 周波数範囲を指定したFFTスペクトル1D-ndarray.\n",
    "    \n",
    "    Parameters\n",
    "    ----------\n",
    "    arr : 1D-ndarray\n",
    "        サンプリングデータ配列. 1D-ndarray.\n",
    "    ini_frq : float\n",
    "        低周波カットオフ周波数. ini_fr以上のスペクトルを残す.\n",
    "    fin_frq : float\n",
    "        高周波カットオフ周波数. fin_fr以下のスペクトルを残す.\n",
    "    hz : int, optional (1000)\n",
    "        サンプル周波数. デフォルトで1000[Hz].\n",
    "    \n",
    "    \"\"\"\n",
    "    num = arr.size\n",
    "    idx0 = nearestidx(rfftfreq(num, 1/hz), ini_frq)\n",
    "    idx1 = nearestidx(rfftfreq(num, 1/hz), fin_frq)\n",
    "    Fk = rfft(arr) / num\n",
    "    # Fk = rfft(arr, norm=\"forward\")      #Scipy ver.1.6以上\n",
    "    if rmDC == True:\n",
    "        Fk[0] = 0    # 直流成分カット\n",
    "    Fk[:idx0] = 0           # index = 0, 1, 2, ... k0-1 の要素を0に (低振動数カット...左片側)\n",
    "    # Fk[num-idx0+1:] = 0   # index = arr.size-k1+1, arr.size-k1+2, ... ,arr.size-1 の要素を0に (低振動数カット....右片側)\n",
    "    # Fk[idx1+1:num-idx1] = 0   # index = k1+1, k1+2, ... arr.size-(k1-1) の要素を0に （高周波数カット）\n",
    "    Fk[idx1+1:] = 0\n",
    "    return Fk\n",
    "\n",
    "\n",
    "def bpfilter1(arr, ini_frq, fin_frq, hz=1000, rmDC=True):   # 周波数i区間[ini_frq, fin_frq]のバンドパスフィルター\n",
    "    \"\"\"\n",
    "    Retern バンドパスフィルタを施した1D-ndarray(デフォルト). \n",
    "        \n",
    "    Parameters\n",
    "    ----------\n",
    "    arr : 1D-ndarray\n",
    "        サンプリングデータ配列. 1D-numpy配列.\n",
    "    ini_frq : float\n",
    "        低周波カットオフ周波数. ini_fr以上のスペクトルを残す.\n",
    "    fin_frq : float\n",
    "        高周波カットオフ周波数. fin_fr以下のスペクトルを残す.\n",
    "    hz : int, optional (1000)\n",
    "        サンプル周波数. デフォルトで1000[Hz].\n",
    "    \"\"\"\n",
    "    num = arr.size\n",
    "    Fk = partialFFT(arr, ini_frq, fin_frq, hz=hz, rmDC=rmDC)    # add rmDC=rmDC\n",
    "    return np.real(irfft(Fk) * num)\n",
    "    # return np.real(ifft(Fk, norm=\"forward\"))   #Scipy ver.1.6以上\n"
   ]
  },
  {
   "cell_type": "code",
   "execution_count": 109,
   "id": "e27b9d38-7164-425a-b307-5674f02d77c6",
   "metadata": {},
   "outputs": [],
   "source": [
    "x = np.array([i/1000+1 for i in range(10000)])"
   ]
  },
  {
   "cell_type": "code",
   "execution_count": 110,
   "id": "fafdb370-d5d4-4033-a2d6-940917b3bcfb",
   "metadata": {},
   "outputs": [],
   "source": [
    "fx = partialFFT1(x, 10, 500)"
   ]
  },
  {
   "cell_type": "code",
   "execution_count": 111,
   "id": "a7f4130a-754e-4a27-ba51-cb659dc5b667",
   "metadata": {},
   "outputs": [
    {
     "data": {
      "text/plain": [
       "5001"
      ]
     },
     "execution_count": 111,
     "metadata": {},
     "output_type": "execute_result"
    }
   ],
   "source": [
    "fx.size"
   ]
  },
  {
   "cell_type": "code",
   "execution_count": 112,
   "id": "c023699f-317e-4ddb-99ee-3a736a0d1b6f",
   "metadata": {},
   "outputs": [
    {
     "data": {
      "text/plain": [
       "array([ 0.    +0.00000000e+00j,  0.    +0.00000000e+00j,\n",
       "        0.    +0.00000000e+00j, ..., -0.0005+3.14159307e-07j,\n",
       "       -0.0005+1.57079638e-07j, -0.0005+0.00000000e+00j])"
      ]
     },
     "execution_count": 112,
     "metadata": {},
     "output_type": "execute_result"
    }
   ],
   "source": [
    "fx"
   ]
  },
  {
   "cell_type": "code",
   "execution_count": 113,
   "id": "6c90655c-8f10-42dd-8605-d3c5ab5b7aa3",
   "metadata": {},
   "outputs": [],
   "source": [
    "fxx = partialFFT1(x, 10, 500, rmDC=False)"
   ]
  },
  {
   "cell_type": "code",
   "execution_count": 114,
   "id": "973bf92a-4c91-40c2-ac5a-cc1c103dd258",
   "metadata": {},
   "outputs": [
    {
     "data": {
      "text/plain": [
       "array([ 0.    +0.00000000e+00j,  0.    +0.00000000e+00j,\n",
       "        0.    +0.00000000e+00j, ..., -0.0005+3.14159307e-07j,\n",
       "       -0.0005+1.57079638e-07j, -0.0005+0.00000000e+00j])"
      ]
     },
     "execution_count": 114,
     "metadata": {},
     "output_type": "execute_result"
    }
   ],
   "source": [
    "fxx"
   ]
  },
  {
   "cell_type": "code",
   "execution_count": 115,
   "id": "71510dcc-6d47-4c80-b65e-ece36745ea9f",
   "metadata": {},
   "outputs": [],
   "source": [
    "import matplotlib.pyplot as plt"
   ]
  },
  {
   "cell_type": "code",
   "execution_count": 116,
   "id": "9ad1919d-0818-45cb-97a4-e683b99c0d76",
   "metadata": {},
   "outputs": [
    {
     "data": {
      "text/plain": [
       "[<matplotlib.lines.Line2D at 0x163f0e410>]"
      ]
     },
     "execution_count": 116,
     "metadata": {},
     "output_type": "execute_result"
    },
    {
     "data": {
      "image/png": "[encoded data removed]",
      "text/plain": [
       "<Figure size 640x480 with 1 Axes>"
      ]
     },
     "metadata": {},
     "output_type": "display_data"
    }
   ],
   "source": [
    "plt.plot(abs(fx))"
   ]
  },
  {
   "cell_type": "code",
   "execution_count": 117,
   "id": "9c364856-9ed9-4e80-afc1-e6e922509f9d",
   "metadata": {},
   "outputs": [
    {
     "data": {
      "text/plain": [
       "[<matplotlib.lines.Line2D at 0x163ed97d0>]"
      ]
     },
     "execution_count": 117,
     "metadata": {},
     "output_type": "execute_result"
    },
    {
     "data": {
      "image/png": "[encoded data removed]",
      "text/plain": [
       "<Figure size 640x480 with 1 Axes>"
      ]
     },
     "metadata": {},
     "output_type": "display_data"
    }
   ],
   "source": [
    "plt.plot(abs(fxx))"
   ]
  },
  {
   "cell_type": "code",
   "execution_count": null,
   "id": "786707f4-00ed-4810-8c18-ea985a0c2184",
   "metadata": {},
   "outputs": [],
   "source": []
  },
  {
   "cell_type": "code",
   "execution_count": null,
   "id": "6b2b4991-b58e-4bda-ab2b-957233a5d0b8",
   "metadata": {},
   "outputs": [],
   "source": []
  }
 ],
 "metadata": {
  "kernelspec": {
   "display_name": "Python 3 (ipykernel)",
   "language": "python",
   "name": "python3"
  },
  "language_info": {
   "codemirror_mode": {
    "name": "ipython",
    "version": 3
   },
   "file_extension": ".py",
   "mimetype": "text/x-python",
   "name": "python",
   "nbconvert_exporter": "python",
   "pygments_lexer": "ipython3",
   "version": "3.11.5"
  }
 },
 "nbformat": 4,
 "nbformat_minor": 5
}
